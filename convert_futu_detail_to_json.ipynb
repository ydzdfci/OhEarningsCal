{
 "cells": [
  {
   "cell_type": "code",
   "execution_count": 1,
   "metadata": {},
   "outputs": [],
   "source": [
    "import pandas as pd\n",
    "import json\n",
    "df = pd.read_csv('futu_monitor.csv')\n",
    "df.columns=['symbol','companyName','industry']"
   ]
  },
  {
   "cell_type": "code",
   "execution_count": 6,
   "metadata": {},
   "outputs": [],
   "source": [
    "# convert to json and keep chinese characters\n",
    "json_data = df.to_json(orient='records', force_ascii=False)\n",
    "# Convert the JSON data to a Python object\n",
    "data = json.loads(json_data)\n",
    "\n",
    "# Specify the file path where you want to save the JSON file\n",
    "file_path = 'customstock.json'\n",
    "\n",
    "# Open the file in write mode and write the JSON data\n",
    "with open(file_path, 'w') as file:\n",
    "    json.dump(data, file,indent=4,ensure_ascii=False)\n"
   ]
  }
 ],
 "metadata": {
  "kernelspec": {
   "display_name": "stock_env",
   "language": "python",
   "name": "python3"
  },
  "language_info": {
   "codemirror_mode": {
    "name": "ipython",
    "version": 3
   },
   "file_extension": ".py",
   "mimetype": "text/x-python",
   "name": "python",
   "nbconvert_exporter": "python",
   "pygments_lexer": "ipython3",
   "version": "3.12.2"
  }
 },
 "nbformat": 4,
 "nbformat_minor": 2
}
